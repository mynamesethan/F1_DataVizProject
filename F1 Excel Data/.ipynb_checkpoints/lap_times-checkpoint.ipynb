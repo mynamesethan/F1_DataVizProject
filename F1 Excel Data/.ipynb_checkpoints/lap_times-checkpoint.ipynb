{
 "cells": [
  {
   "cell_type": "code",
   "execution_count": 122,
   "metadata": {},
   "outputs": [],
   "source": [
    "import pandas as pd\n",
    "#constructor_results = pd.read_csv(\"constructor_results.csv\")\n",
    "#constructor_standings = pd.read_csv(\"constructor_standings.csv\")\n",
    "#constructors = pd.read_csv('constructors.csv')\n",
    "#driver_standings = pd.read_csv(\"driver_standings.csv\")\n",
    "#pit_stops = pd.read_csv(\"pit_stops.csv\")\n",
    "#qualifying = pd.read_csv(\"qualifying.csv\")\n",
    "#results = pd.read_csv(\"results.csv\")\n",
    "#seasons = pd.read_csv(\"seasons.csv\")\n",
    "#status = pd.read_csv(\"status.csv\")\n",
    "\n",
    "drivers = pd.read_csv('driver.csv')\n",
    "circuits = pd.read_csv(\"circuits.csv\")\n",
    "races = pd.read_csv(\"races.csv\")\n",
    "lap_times = pd.read_csv(\"lap_times.csv\")"
   ]
  },
  {
   "cell_type": "code",
   "execution_count": 123,
   "metadata": {},
   "outputs": [],
   "source": [
    "# drivers subset for join \n",
    "races_subset = races[[\"raceId\", \"circuitId\",\"name\", \"date\"]]"
   ]
  },
  {
   "cell_type": "code",
   "execution_count": 124,
   "metadata": {},
   "outputs": [],
   "source": [
    "# drivers subset\n",
    "drivers[\"fullname\"] = drivers[\"forename\"].map(str) + \" \" + drivers[\"surname\"]\n",
    "drivers_subset = drivers[[\"driverId\", \"fullname\"]]"
   ]
  },
  {
   "cell_type": "code",
   "execution_count": 125,
   "metadata": {},
   "outputs": [],
   "source": [
    "# rename some columns\n",
    "circuits = circuits.rename(columns={'circuitID': 'circuitId', \"name\":\"circuit_name\"})"
   ]
  },
  {
   "cell_type": "code",
   "execution_count": 126,
   "metadata": {},
   "outputs": [],
   "source": [
    "# subset to maintain intitial data\n",
    "lap_times_subset = lap_times\n",
    "\n",
    "# join driver to driver id\n",
    "lap_times_subset = pd.merge(left = lap_times_subset, right = drivers_subset, on = \"driverId\")\n",
    "\n",
    "# join raceId\n",
    "lap_times_subset = pd.merge(left = lap_times_subset, right = races_subset, on = \"raceId\")\n",
    "\n",
    "# join by circuit\n",
    "lap_times_subset = pd.merge(left = circuits[[\"circuitId\", \"circuit_name\"]], right = lap_times_subset, on = \"circuitId\")"
   ]
  },
  {
   "cell_type": "code",
   "execution_count": 127,
   "metadata": {},
   "outputs": [],
   "source": [
    "# convert to datetime to make date manipulation easier - takes a while\n",
    "lap_times_subset['date'] = pd.to_datetime(lap_times_subset['date'])\n",
    "\n",
    "# make year column\n",
    "lap_times_subset[\"year\"] = lap_times_subset.date.dt.year"
   ]
  },
  {
   "cell_type": "code",
   "execution_count": 128,
   "metadata": {},
   "outputs": [],
   "source": [
    "# make dataframe to be plotted\n",
    "mean_laptimes_by_track = lap_times_subset[[\"year\", \"name\", \"circuit_name\", \"milliseconds\"]]\n",
    "# change milliseconds name to time\n",
    "\n",
    "mean_laptimes_by_track = mean_laptimes_by_track.rename(columns = {\"milliseconds\":\"time\"})"
   ]
  },
  {
   "cell_type": "code",
   "execution_count": 129,
   "metadata": {},
   "outputs": [],
   "source": [
    "# group by circuit and year and find average time\n",
    "mean_laptimes_by_track = mean_laptimes_by_track.groupby([\"name\",\"circuit_name\", \"year\"]).mean()\n",
    "\n",
    "# convert ms to time\n",
    "#mean_laptimes_by_track.time = pd.to_timedelta(mean_laptimes_by_track.time, unit='ms')"
   ]
  },
  {
   "cell_type": "code",
   "execution_count": 131,
   "metadata": {},
   "outputs": [],
   "source": [
    "races_2018 = ['Australian Grand Prix', 'Bahrain Grand Prix', 'Spanish Grand Prix','Monaco Grand Prix',\n",
    "              'Canadian Grand Prix', 'French Grand Prix', 'British Grand Prix', 'German Grand Prix',\n",
    "              'Hungarian Grand Prix','Belgian Grand Prix', 'Italian Grand Prix','Singapore Grand Prix',\n",
    "              'Japanese Grand Prix','Chinese Grand Prix','Brazilian Grand Prix','United States Grand Prix',\n",
    "              'Austrian Grand Prix','Abu Dhabi Grand Prix','Mexican Grand Prix', 'Russian Grand Prix', 'Azerbaijan Grand Prix']"
   ]
  },
  {
   "cell_type": "code",
   "execution_count": 132,
   "metadata": {},
   "outputs": [],
   "source": [
    "# sace as csv because python is formatting it weird\n",
    "mean_laptimes_by_track.to_csv('mean_lap_times.csv')"
   ]
  },
  {
   "cell_type": "code",
   "execution_count": 188,
   "metadata": {},
   "outputs": [],
   "source": [
    "mean_laps = pd.read_csv(\"mean_lap_times.csv\")\n",
    "tracks_2018_mean_laps = mean_laps[mean_laps.name.isin(races_2018)]"
   ]
  },
  {
   "cell_type": "code",
   "execution_count": 174,
   "metadata": {},
   "outputs": [
    {
     "name": "stderr",
     "output_type": "stream",
     "text": [
      "/anaconda3/envs/dviz/lib/python3.6/site-packages/pandas/core/generic.py:4405: SettingWithCopyWarning: \n",
      "A value is trying to be set on a copy of a slice from a DataFrame.\n",
      "Try using .loc[row_indexer,col_indexer] = value instead\n",
      "\n",
      "See the caveats in the documentation: http://pandas.pydata.org/pandas-docs/stable/indexing.html#indexing-view-versus-copy\n",
      "  self[name] = value\n",
      "/anaconda3/envs/dviz/lib/python3.6/site-packages/ipykernel_launcher.py:2: SettingWithCopyWarning: \n",
      "A value is trying to be set on a copy of a slice from a DataFrame.\n",
      "Try using .loc[row_indexer,col_indexer] = value instead\n",
      "\n",
      "See the caveats in the documentation: http://pandas.pydata.org/pandas-docs/stable/indexing.html#indexing-view-versus-copy\n",
      "  \n",
      "/anaconda3/envs/dviz/lib/python3.6/site-packages/ipykernel_launcher.py:3: SettingWithCopyWarning: \n",
      "A value is trying to be set on a copy of a slice from a DataFrame.\n",
      "Try using .loc[row_indexer,col_indexer] = value instead\n",
      "\n",
      "See the caveats in the documentation: http://pandas.pydata.org/pandas-docs/stable/indexing.html#indexing-view-versus-copy\n",
      "  This is separate from the ipykernel package so we can avoid doing imports until\n"
     ]
    }
   ],
   "source": [
    "# Convert to datetime, ignore warnings\n",
    "tracks_2018_mean_laps.time = pd.to_timedelta(tracks_2018_mean_laps.time, unit='ms')\n",
    "tracks_2018_mean_laps[\"time\"] = pd.to_datetime(tracks_2018_mean_laps[\"time\"])\n",
    "tracks_2018_mean_laps[\"time\"] = tracks_2018_mean_laps.time.dt.strftime(\"%M:%S.%f\")"
   ]
  },
  {
   "cell_type": "code",
   "execution_count": 189,
   "metadata": {},
   "outputs": [
    {
     "data": {
      "application/vnd.vegalite.v2+json": {
       "$schema": "https://vega.github.io/schema/vega-lite/v2.6.0.json",
       "config": {
        "view": {
         "height": 300,
         "width": 400
        }
       },
       "data": {
        "name": "data-ba8b6ebd5975e4a7a8a05cb10430a4c0"
       },
       "datasets": {
        "data-ba8b6ebd5975e4a7a8a05cb10430a4c0": [
         {
          "circuit_name": "Yas Marina Circuit",
          "name": "Abu Dhabi Grand Prix",
          "time": 103623.08878048779,
          "year": 2009
         },
         {
          "circuit_name": "Yas Marina Circuit",
          "name": "Abu Dhabi Grand Prix",
          "time": 110506.40690817186,
          "year": 2010
         },
         {
          "circuit_name": "Yas Marina Circuit",
          "name": "Abu Dhabi Grand Prix",
          "time": 108615.13651877132,
          "year": 2011
         },
         {
          "circuit_name": "Yas Marina Circuit",
          "name": "Abu Dhabi Grand Prix",
          "time": 116403.74515235458,
          "year": 2012
         },
         {
          "circuit_name": "Yas Marina Circuit",
          "name": "Abu Dhabi Grand Prix",
          "time": 108937.90917030568,
          "year": 2013
         },
         {
          "circuit_name": "Yas Marina Circuit",
          "name": "Abu Dhabi Grand Prix",
          "time": 109714.98616600789,
          "year": 2014
         },
         {
          "circuit_name": "Yas Marina Circuit",
          "name": "Abu Dhabi Grand Prix",
          "time": 109684.11519845114,
          "year": 2015
         },
         {
          "circuit_name": "Yas Marina Circuit",
          "name": "Abu Dhabi Grand Prix",
          "time": 108479.96230158732,
          "year": 2016
         },
         {
          "circuit_name": "Yas Marina Circuit",
          "name": "Abu Dhabi Grand Prix",
          "time": 104873.02521823473,
          "year": 2017
         },
         {
          "circuit_name": "Albert Park Grand Prix Circuit",
          "name": "Australian Grand Prix",
          "time": 99021.05049261084,
          "year": 1996
         },
         {
          "circuit_name": "Albert Park Grand Prix Circuit",
          "name": "Australian Grand Prix",
          "time": 96326.91902313623,
          "year": 1997
         },
         {
          "circuit_name": "Albert Park Grand Prix Circuit",
          "name": "Australian Grand Prix",
          "time": 97903.0701262272,
          "year": 1998
         },
         {
          "circuit_name": "Albert Park Grand Prix Circuit",
          "name": "Australian Grand Prix",
          "time": 102112.6608108108,
          "year": 1999
         },
         {
          "circuit_name": "Albert Park Grand Prix Circuit",
          "name": "Australian Grand Prix",
          "time": 99751.7056778679,
          "year": 2000
         },
         {
          "circuit_name": "Albert Park Grand Prix Circuit",
          "name": "Australian Grand Prix",
          "time": 104914.22891566264,
          "year": 2001
         },
         {
          "circuit_name": "Albert Park Grand Prix Circuit",
          "name": "Australian Grand Prix",
          "time": 107321.21708185054,
          "year": 2002
         },
         {
          "circuit_name": "Albert Park Grand Prix Circuit",
          "name": "Australian Grand Prix",
          "time": 99997.81688466114,
          "year": 2003
         },
         {
          "circuit_name": "Albert Park Grand Prix Circuit",
          "name": "Australian Grand Prix",
          "time": 90808.45714285712,
          "year": 2004
         },
         {
          "circuit_name": "Albert Park Grand Prix Circuit",
          "name": "Australian Grand Prix",
          "time": 90332.47253787877,
          "year": 2005
         },
         {
          "circuit_name": "Albert Park Grand Prix Circuit",
          "name": "Australian Grand Prix",
          "time": 101650.96170678338,
          "year": 2006
         },
         {
          "circuit_name": "Albert Park Grand Prix Circuit",
          "name": "Australian Grand Prix",
          "time": 90397.86964129485,
          "year": 2007
         },
         {
          "circuit_name": "Albert Park Grand Prix Circuit",
          "name": "Australian Grand Prix",
          "time": 98557.18230563002,
          "year": 2008
         },
         {
          "circuit_name": "Albert Park Grand Prix Circuit",
          "name": "Australian Grand Prix",
          "time": 97427.74527363184,
          "year": 2009
         },
         {
          "circuit_name": "Albert Park Grand Prix Circuit",
          "name": "Australian Grand Prix",
          "time": 101076.80957562568,
          "year": 2010
         },
         {
          "circuit_name": "Albert Park Grand Prix Circuit",
          "name": "Australian Grand Prix",
          "time": 95618.77377654664,
          "year": 2011
         },
         {
          "circuit_name": "Albert Park Grand Prix Circuit",
          "name": "Australian Grand Prix",
          "time": 98469.92911877394,
          "year": 2012
         },
         {
          "circuit_name": "Albert Park Grand Prix Circuit",
          "name": "Australian Grand Prix",
          "time": 94959.4350533808,
          "year": 2013
         },
         {
          "circuit_name": "Albert Park Grand Prix Circuit",
          "name": "Australian Grand Prix",
          "time": 100366.24498416053,
          "year": 2014
         },
         {
          "circuit_name": "Albert Park Grand Prix Circuit",
          "name": "Australian Grand Prix",
          "time": 97062.15504978664,
          "year": 2015
         },
         {
          "circuit_name": "Albert Park Grand Prix Circuit",
          "name": "Australian Grand Prix",
          "time": 115614.2831858407,
          "year": 2016
         },
         {
          "circuit_name": "Albert Park Grand Prix Circuit",
          "name": "Australian Grand Prix",
          "time": 91105.88853503183,
          "year": 2017
         },
         {
          "circuit_name": "Albert Park Grand Prix Circuit",
          "name": "Australian Grand Prix",
          "time": 93258.05763073641,
          "year": 2018
         },
         {
          "circuit_name": "A1-Ring",
          "name": "Austrian Grand Prix",
          "time": 74986.25333333333,
          "year": 1997
         },
         {
          "circuit_name": "A1-Ring",
          "name": "Austrian Grand Prix",
          "time": 78521.02708124374,
          "year": 1998
         },
         {
          "circuit_name": "A1-Ring",
          "name": "Austrian Grand Prix",
          "time": 76098.61975116639,
          "year": 1999
         },
         {
          "circuit_name": "A1-Ring",
          "name": "Austrian Grand Prix",
          "time": 76906.97966728281,
          "year": 2000
         },
         {
          "circuit_name": "A1-Ring",
          "name": "Austrian Grand Prix",
          "time": 76860.57628765792,
          "year": 2001
         },
         {
          "circuit_name": "A1-Ring",
          "name": "Austrian Grand Prix",
          "time": 80723.66886792453,
          "year": 2002
         },
         {
          "circuit_name": "A1-Ring",
          "name": "Austrian Grand Prix",
          "time": 74695.39869888476,
          "year": 2003
         },
         {
          "circuit_name": "Red Bull Ring",
          "name": "Austrian Grand Prix",
          "time": 75599.87749483826,
          "year": 2014
         },
         {
          "circuit_name": "Red Bull Ring",
          "name": "Austrian Grand Prix",
          "time": 78207.28342749528,
          "year": 2015
         },
         {
          "circuit_name": "Red Bull Ring",
          "name": "Austrian Grand Prix",
          "time": 74946.18290960453,
          "year": 2016
         },
         {
          "circuit_name": "Red Bull Ring",
          "name": "Austrian Grand Prix",
          "time": 70445.01169590643,
          "year": 2017
         },
         {
          "circuit_name": "Red Bull Ring",
          "name": "Austrian Grand Prix",
          "time": 70745.09523809524,
          "year": 2018
         },
         {
          "circuit_name": "Baku City Circuit",
          "name": "Azerbaijan Grand Prix",
          "time": 149324.75,
          "year": 2017
         },
         {
          "circuit_name": "Baku City Circuit",
          "name": "Azerbaijan Grand Prix",
          "time": 121717.24019024972,
          "year": 2018
         },
         {
          "circuit_name": "Bahrain International Circuit",
          "name": "Bahrain Grand Prix",
          "time": 95387.92322274881,
          "year": 2004
         },
         {
          "circuit_name": "Bahrain International Circuit",
          "name": "Bahrain Grand Prix",
          "time": 96346.62232779096,
          "year": 2005
         },
         {
          "circuit_name": "Bahrain International Circuit",
          "name": "Bahrain Grand Prix",
          "time": 97186.3390909091,
          "year": 2006
         },
         {
          "circuit_name": "Bahrain International Circuit",
          "name": "Bahrain Grand Prix",
          "time": 100550.415860735,
          "year": 2007
         },
         {
          "circuit_name": "Bahrain International Circuit",
          "name": "Bahrain Grand Prix",
          "time": 97601.39982347748,
          "year": 2008
         },
         {
          "circuit_name": "Bahrain International Circuit",
          "name": "Bahrain Grand Prix",
          "time": 97834.82488888886,
          "year": 2009
         },
         {
          "circuit_name": "Bahrain International Circuit",
          "name": "Bahrain Grand Prix",
          "time": 123994.8826754386,
          "year": 2010
         },
         {
          "circuit_name": "Bahrain International Circuit",
          "name": "Bahrain Grand Prix",
          "time": 101989.5539177657,
          "year": 2012
         },
         {
          "circuit_name": "Bahrain International Circuit",
          "name": "Bahrain Grand Prix",
          "time": 102525.87147595355,
          "year": 2013
         },
         {
          "circuit_name": "Bahrain International Circuit",
          "name": "Bahrain Grand Prix",
          "time": 105863.46540880504,
          "year": 2014
         },
         {
          "circuit_name": "Bahrain International Circuit",
          "name": "Bahrain Grand Prix",
          "time": 102143.04612365064,
          "year": 2015
         },
         {
          "circuit_name": "Bahrain International Circuit",
          "name": "Bahrain Grand Prix",
          "time": 100449.44710578842,
          "year": 2016
         },
         {
          "circuit_name": "Bahrain International Circuit",
          "name": "Bahrain Grand Prix",
          "time": 100056.30734463275,
          "year": 2017
         },
         {
          "circuit_name": "Bahrain International Circuit",
          "name": "Bahrain Grand Prix",
          "time": 98676.89769307924,
          "year": 2018
         },
         {
          "circuit_name": "Circuit de Spa-Francorchamps",
          "name": "Belgian Grand Prix",
          "time": 122689.93333333332,
          "year": 1996
         },
         {
          "circuit_name": "Circuit de Spa-Francorchamps",
          "name": "Belgian Grand Prix",
          "time": 132219.6422250316,
          "year": 1997
         },
         {
          "circuit_name": "Circuit de Spa-Francorchamps",
          "name": "Belgian Grand Prix",
          "time": 145076.64239828693,
          "year": 1998
         },
         {
          "circuit_name": "Circuit de Spa-Francorchamps",
          "name": "Belgian Grand Prix",
          "time": 119180.42991755006,
          "year": 1999
         },
         {
          "circuit_name": "Circuit de Spa-Francorchamps",
          "name": "Belgian Grand Prix",
          "time": 123424.78502415461,
          "year": 2000
         },
         {
          "circuit_name": "Circuit de Spa-Francorchamps",
          "name": "Belgian Grand Prix",
          "time": 116570.86470588234,
          "year": 2001
         },
         {
          "circuit_name": "Circuit de Spa-Francorchamps",
          "name": "Belgian Grand Prix",
          "time": 112631.64256480217,
          "year": 2002
         },
         {
          "circuit_name": "Circuit de Spa-Francorchamps",
          "name": "Belgian Grand Prix",
          "time": 126997.63295269168,
          "year": 2004
         },
         {
          "circuit_name": "Circuit de Spa-Francorchamps",
          "name": "Belgian Grand Prix",
          "time": 126147.69726027394,
          "year": 2005
         },
         {
          "circuit_name": "Circuit de Spa-Francorchamps",
          "name": "Belgian Grand Prix",
          "time": 112448.35058823528,
          "year": 2007
         },
         {
          "circuit_name": "Circuit de Spa-Francorchamps",
          "name": "Belgian Grand Prix",
          "time": 114505.93120393119,
          "year": 2008
         },
         {
          "circuit_name": "Circuit de Spa-Francorchamps",
          "name": "Belgian Grand Prix",
          "time": 115552.62745098039,
          "year": 2009
         },
         {
          "circuit_name": "Circuit de Spa-Francorchamps",
          "name": "Belgian Grand Prix",
          "time": 122916.42608695652,
          "year": 2010
         },
         {
          "circuit_name": "Circuit de Spa-Francorchamps",
          "name": "Belgian Grand Prix",
          "time": 120528.80518018018,
          "year": 2011
         },
         {
          "circuit_name": "Circuit de Spa-Francorchamps",
          "name": "Belgian Grand Prix",
          "time": 124004.40853658535,
          "year": 2012
         },
         {
          "circuit_name": "Circuit de Spa-Francorchamps",
          "name": "Belgian Grand Prix",
          "time": 116210.28764044946,
          "year": 2013
         },
         {
          "circuit_name": "Circuit de Spa-Francorchamps",
          "name": "Belgian Grand Prix",
          "time": 117314.94172494172,
          "year": 2014
         },
         {
          "circuit_name": "Circuit de Spa-Francorchamps",
          "name": "Belgian Grand Prix",
          "time": 119295.94565217392,
          "year": 2015
         },
         {
          "circuit_name": "Circuit de Spa-Francorchamps",
          "name": "Belgian Grand Prix",
          "time": 144289.09391534392,
          "year": 2016
         },
         {
          "circuit_name": "Circuit de Spa-Francorchamps",
          "name": "Belgian Grand Prix",
          "time": 116336.5435897436,
          "year": 2017
         },
         {
          "circuit_name": "Circuit de Spa-Francorchamps",
          "name": "Belgian Grand Prix",
          "time": 116911.71594202898,
          "year": 2018
         },
         {
          "circuit_name": "Autódromo José Carlos Pace",
          "name": "Brazilian Grand Prix",
          "time": 96868.48638838477,
          "year": 1996
         },
         {
          "circuit_name": "Autódromo José Carlos Pace",
          "name": "Brazilian Grand Prix",
          "time": 81519.0484937546,
          "year": 1997
         },
         {
          "circuit_name": "Autódromo José Carlos Pace",
          "name": "Brazilian Grand Prix",
          "time": 82933.06794425088,
          "year": 1998
         },
         {
          "circuit_name": "Autódromo José Carlos Pace",
          "name": "Brazilian Grand Prix",
          "time": 82739.11575875487,
          "year": 1999
         },
         {
          "circuit_name": "Autódromo José Carlos Pace",
          "name": "Brazilian Grand Prix",
          "time": 78847.16016427103,
          "year": 2000
         },
         {
          "circuit_name": "Autódromo José Carlos Pace",
          "name": "Brazilian Grand Prix",
          "time": 85571.18498659518,
          "year": 2001
         },
         {
          "circuit_name": "Autódromo José Carlos Pace",
          "name": "Brazilian Grand Prix",
          "time": 80097.68421052633,
          "year": 2002
         },
         {
          "circuit_name": "Autódromo José Carlos Pace",
          "name": "Brazilian Grand Prix",
          "time": 104839.91377091377,
          "year": 2003
         },
         {
          "circuit_name": "Autódromo José Carlos Pace",
          "name": "Brazilian Grand Prix",
          "time": 76011.63311688312,
          "year": 2004
         },
         {
          "circuit_name": "Autódromo José Carlos Pace",
          "name": "Brazilian Grand Prix",
          "time": 78639.2065767285,
          "year": 2005
         },
         {
          "circuit_name": "Autódromo José Carlos Pace",
          "name": "Brazilian Grand Prix",
          "time": 79271.36274509804,
          "year": 2006
         },
         {
          "circuit_name": "Autódromo José Carlos Pace",
          "name": "Brazilian Grand Prix",
          "time": 76832.6023890785,
          "year": 2007
         },
         {
          "circuit_name": "Autódromo José Carlos Pace",
          "name": "Brazilian Grand Prix",
          "time": 80924.80726698262,
          "year": 2008
         },
         {
          "circuit_name": "Autódromo José Carlos Pace",
          "name": "Brazilian Grand Prix",
          "time": 79104.38504672897,
          "year": 2009
         },
         {
          "circuit_name": "Autódromo José Carlos Pace",
          "name": "Brazilian Grand Prix",
          "time": 80874.46027895695,
          "year": 2010
         },
         {
          "circuit_name": "Autódromo José Carlos Pace",
          "name": "Brazilian Grand Prix",
          "time": 79987.84020618557,
          "year": 2011
         },
         {
          "circuit_name": "Autódromo José Carlos Pace",
          "name": "Brazilian Grand Prix",
          "time": 89864.10537634409,
          "year": 2012
         },
         {
          "circuit_name": "Autódromo José Carlos Pace",
          "name": "Brazilian Grand Prix",
          "time": 79551.76058292853,
          "year": 2013
         },
         {
          "circuit_name": "Autódromo José Carlos Pace",
          "name": "Brazilian Grand Prix",
          "time": 77145.1121039805,
          "year": 2014
         },
         {
          "circuit_name": "Autódromo José Carlos Pace",
          "name": "Brazilian Grand Prix",
          "time": 78785.46194423511,
          "year": 2015
         },
         {
          "circuit_name": "Autódromo José Carlos Pace",
          "name": "Brazilian Grand Prix",
          "time": 153655.55417956653,
          "year": 2016
         },
         {
          "circuit_name": "Autódromo José Carlos Pace",
          "name": "Brazilian Grand Prix",
          "time": 78541.67694944303,
          "year": 2017
         },
         {
          "circuit_name": "Silverstone Circuit",
          "name": "British Grand Prix",
          "time": 93658.72517321016,
          "year": 1996
         },
         {
          "circuit_name": "Silverstone Circuit",
          "name": "British Grand Prix",
          "time": 91178.6669921875,
          "year": 1997
         },
         {
          "circuit_name": "Silverstone Circuit",
          "name": "British Grand Prix",
          "time": 108235.03858185609,
          "year": 1998
         },
         {
          "circuit_name": "Silverstone Circuit",
          "name": "British Grand Prix",
          "time": 94030.67260787993,
          "year": 1999
         },
         {
          "circuit_name": "Silverstone Circuit",
          "name": "British Grand Prix",
          "time": 90448.92557741661,
          "year": 2000
         },
         {
          "circuit_name": "Silverstone Circuit",
          "name": "British Grand Prix",
          "time": 88000.1361788618,
          "year": 2001
         },
         {
          "circuit_name": "Silverstone Circuit",
          "name": "British Grand Prix",
          "time": 94557.16052060736,
          "year": 2002
         },
         {
          "circuit_name": "Silverstone Circuit",
          "name": "British Grand Prix",
          "time": 90055.14385964912,
          "year": 2003
         },
         {
          "circuit_name": "Silverstone Circuit",
          "name": "British Grand Prix",
          "time": 85765.57287822878,
          "year": 2004
         },
         {
          "circuit_name": "Silverstone Circuit",
          "name": "British Grand Prix",
          "time": 86659.92850838482,
          "year": 2005
         },
         {
          "circuit_name": "Silverstone Circuit",
          "name": "British Grand Prix",
          "time": 87877.31441860466,
          "year": 2006
         },
         {
          "circuit_name": "Silverstone Circuit",
          "name": "British Grand Prix",
          "time": 85536.03333333334,
          "year": 2007
         },
         {
          "circuit_name": "Silverstone Circuit",
          "name": "British Grand Prix",
          "time": 100905.51908396947,
          "year": 2008
         },
         {
          "circuit_name": "Silverstone Circuit",
          "name": "British Grand Prix",
          "time": 84317.45811518324,
          "year": 2009
         },
         {
          "circuit_name": "Silverstone Circuit",
          "name": "British Grand Prix",
          "time": 99351.35216240073,
          "year": 2010
         },
         {
          "circuit_name": "Silverstone Circuit",
          "name": "British Grand Prix",
          "time": 104956.72372093024,
          "year": 2011
         },
         {
          "circuit_name": "Silverstone Circuit",
          "name": "British Grand Prix",
          "time": 99808.07019143116,
          "year": 2012
         },
         {
          "circuit_name": "Silverstone Circuit",
          "name": "British Grand Prix",
          "time": 107805.83588818756,
          "year": 2013
         },
         {
          "circuit_name": "Silverstone Circuit",
          "name": "British Grand Prix",
          "time": 180681.68260869567,
          "year": 2014
         },
         {
          "circuit_name": "Silverstone Circuit",
          "name": "British Grand Prix",
          "time": 108001.61165048543,
          "year": 2015
         },
         {
          "circuit_name": "Silverstone Circuit",
          "name": "British Grand Prix",
          "time": 113489.77319587627,
          "year": 2016
         },
         {
          "circuit_name": "Silverstone Circuit",
          "name": "British Grand Prix",
          "time": 97780.81439820024,
          "year": 2017
         },
         {
          "circuit_name": "Silverstone Circuit",
          "name": "British Grand Prix",
          "time": 101208.12583518929,
          "year": 2018
         },
         {
          "circuit_name": "Circuit Gilles Villeneuve",
          "name": "Canadian Grand Prix",
          "time": 85562.10978260869,
          "year": 1996
         },
         {
          "circuit_name": "Circuit Gilles Villeneuve",
          "name": "Canadian Grand Prix",
          "time": 87191.92462311557,
          "year": 1997
         },
         {
          "circuit_name": "Circuit Gilles Villeneuve",
          "name": "Canadian Grand Prix",
          "time": 91242.92229729731,
          "year": 1998
         },
         {
          "circuit_name": "Circuit Gilles Villeneuve",
          "name": "Canadian Grand Prix",
          "time": 89516.00835945664,
          "year": 1999
         },
         {
          "circuit_name": "Circuit Gilles Villeneuve",
          "name": "Canadian Grand Prix",
          "time": 88222.34752321981,
          "year": 2000
         },
         {
          "circuit_name": "Circuit Gilles Villeneuve",
          "name": "Canadian Grand Prix",
          "time": 84126.5329153605,
          "year": 2001
         },
         {
          "circuit_name": "Circuit Gilles Villeneuve",
          "name": "Canadian Grand Prix",
          "time": 81926.65278868814,
          "year": 2002
         },
         {
          "circuit_name": "Circuit Gilles Villeneuve",
          "name": "Canadian Grand Prix",
          "time": 80029.38734419942,
          "year": 2003
         },
         {
          "circuit_name": "Circuit Gilles Villeneuve",
          "name": "Canadian Grand Prix",
          "time": 77728.34835355286,
          "year": 2004
         },
         {
          "circuit_name": "Circuit Gilles Villeneuve",
          "name": "Canadian Grand Prix",
          "time": 81664.07834507043,
          "year": 2005
         },
         {
          "circuit_name": "Circuit Gilles Villeneuve",
          "name": "Canadian Grand Prix",
          "time": 82999.8807495741,
          "year": 2006
         },
         {
          "circuit_name": "Circuit Gilles Villeneuve",
          "name": "Canadian Grand Prix",
          "time": 89093.85738255033,
          "year": 2007
         },
         {
          "circuit_name": "Circuit Gilles Villeneuve",
          "name": "Canadian Grand Prix",
          "time": 83696.95350877193,
          "year": 2008
         },
         {
          "circuit_name": "Circuit Gilles Villeneuve",
          "name": "Canadian Grand Prix",
          "time": 82746.44152249135,
          "year": 2010
         },
         {
          "circuit_name": "Circuit Gilles Villeneuve",
          "name": "Canadian Grand Prix",
          "time": 220450.71505376344,
          "year": 2011
         },
         {
          "circuit_name": "Circuit Gilles Villeneuve",
          "name": "Canadian Grand Prix",
          "time": 80304.94339622643,
          "year": 2012
         },
         {
          "circuit_name": "Circuit Gilles Villeneuve",
          "name": "Canadian Grand Prix",
          "time": 80961.11849315069,
          "year": 2013
         },
         {
          "circuit_name": "Circuit Gilles Villeneuve",
          "name": "Canadian Grand Prix",
          "time": 86272.66950596253,
          "year": 2014
         },
         {
          "circuit_name": "Circuit Gilles Villeneuve",
          "name": "Canadian Grand Prix",
          "time": 80396.10743801652,
          "year": 2015
         },
         {
          "circuit_name": "Circuit Gilles Villeneuve",
          "name": "Canadian Grand Prix",
          "time": 79753.7359591539,
          "year": 2016
         },
         {
          "circuit_name": "Circuit Gilles Villeneuve",
          "name": "Canadian Grand Prix",
          "time": 81126.52133105801,
          "year": 2017
         },
         {
          "circuit_name": "Circuit Gilles Villeneuve",
          "name": "Canadian Grand Prix",
          "time": 79538.20558375634,
          "year": 2018
         },
         {
          "circuit_name": "Shanghai International Circuit",
          "name": "Chinese Grand Prix",
          "time": 97479.70734126984,
          "year": 2004
         },
         {
          "circuit_name": "Shanghai International Circuit",
          "name": "Chinese Grand Prix",
          "time": 108572.36847389556,
          "year": 2005
         },
         {
          "circuit_name": "Shanghai International Circuit",
          "name": "Chinese Grand Prix",
          "time": 107412.17422222222,
          "year": 2006
         },
         {
          "circuit_name": "Shanghai International Circuit",
          "name": "Chinese Grand Prix",
          "time": 107368.81519699813,
          "year": 2007
         },
         {
          "circuit_name": "Shanghai International Circuit",
          "name": "Chinese Grand Prix",
          "time": 99831.40967423496,
          "year": 2008
         },
         {
          "circuit_name": "Shanghai International Circuit",
          "name": "Chinese Grand Prix",
          "time": 128685.07917888564,
          "year": 2009
         },
         {
          "circuit_name": "Shanghai International Circuit",
          "name": "Chinese Grand Prix",
          "time": 118109.4467005076,
          "year": 2010
         },
         {
          "circuit_name": "Shanghai International Circuit",
          "name": "Chinese Grand Prix",
          "time": 105659.25077881619,
          "year": 2011
         },
         {
          "circuit_name": "Shanghai International Circuit",
          "name": "Chinese Grand Prix",
          "time": 104809.6096049574,
          "year": 2012
         },
         {
          "circuit_name": "Shanghai International Circuit",
          "name": "Chinese Grand Prix",
          "time": 104690.33746425169,
          "year": 2013
         },
         {
          "circuit_name": "Shanghai International Circuit",
          "name": "Chinese Grand Prix",
          "time": 105910.76403508773,
          "year": 2014
         },
         {
          "circuit_name": "Shanghai International Circuit",
          "name": "Chinese Grand Prix",
          "time": 107993.15316205533,
          "year": 2015
         },
         {
          "circuit_name": "Shanghai International Circuit",
          "name": "Chinese Grand Prix",
          "time": 107720.79067865905,
          "year": 2016
         },
         {
          "circuit_name": "Shanghai International Circuit",
          "name": "Chinese Grand Prix",
          "time": 107367.67552602435,
          "year": 2017
         },
         {
          "circuit_name": "Shanghai International Circuit",
          "name": "Chinese Grand Prix",
          "time": 103177.9802690583,
          "year": 2018
         },
         {
          "circuit_name": "Circuit Paul Ricard",
          "name": "French Grand Prix",
          "time": 103984.57267759564,
          "year": 2018
         },
         {
          "circuit_name": "Circuit de Nevers Magny-Cours",
          "name": "French Grand Prix",
          "time": 82347.86292548299,
          "year": 1996
         },
         {
          "circuit_name": "Circuit de Nevers Magny-Cours",
          "name": "French Grand Prix",
          "time": 83838.60741364786,
          "year": 1997
         },
         {
          "circuit_name": "Circuit de Nevers Magny-Cours",
          "name": "French Grand Prix",
          "time": 82264.04522246536,
          "year": 1998
         },
         {
          "circuit_name": "Circuit de Nevers Magny-Cours",
          "name": "French Grand Prix",
          "time": 98496.0723562152,
          "year": 1999
         },
         {
          "circuit_name": "Circuit de Nevers Magny-Cours",
          "name": "French Grand Prix",
          "time": 83375.03777949112,
          "year": 2000
         },
         {
          "circuit_name": "Circuit de Nevers Magny-Cours",
          "name": "French Grand Prix",
          "time": 79643.7156862745,
          "year": 2001
         },
         {
          "circuit_name": "Circuit de Nevers Magny-Cours",
          "name": "French Grand Prix",
          "time": 78463.07358490568,
          "year": 2002
         },
         {
          "circuit_name": "Circuit de Nevers Magny-Cours",
          "name": "French Grand Prix",
          "time": 79642.01757188496,
          "year": 2003
         },
         {
          "circuit_name": "Circuit de Nevers Magny-Cours",
          "name": "French Grand Prix",
          "time": 78914.17906976744,
          "year": 2004
         },
         {
          "circuit_name": "Circuit de Nevers Magny-Cours",
          "name": "French Grand Prix",
          "time": 80945.98979591837,
          "year": 2005
         },
         {
          "circuit_name": "Circuit de Nevers Magny-Cours",
          "name": "French Grand Prix",
          "time": 80710.2971295578,
          "year": 2006
         },
         {
          "circuit_name": "Circuit de Nevers Magny-Cours",
          "name": "French Grand Prix",
          "time": 79237.36205533598,
          "year": 2007
         },
         {
          "circuit_name": "Circuit de Nevers Magny-Cours",
          "name": "French Grand Prix",
          "time": 79683.93134328358,
          "year": 2008
         },
         {
          "circuit_name": "Hockenheimring",
          "name": "German Grand Prix",
          "time": 111430.56268221576,
          "year": 1996
         },
         {
          "circuit_name": "Hockenheimring",
          "name": "German Grand Prix",
          "time": 109984.96030534351,
          "year": 1997
         },
         {
          "circuit_name": "Hockenheimring",
          "name": "German Grand Prix",
          "time": 109460.43214285713,
          "year": 1998
         },
         {
          "circuit_name": "Hockenheimring",
          "name": "German Grand Prix",
          "time": 110625.74027993779,
          "year": 1999
         },
         {
          "circuit_name": "Hockenheimring",
          "name": "German Grand Prix",
          "time": 114235.45790816328,
          "year": 2000
         },
         {
          "circuit_name": "Hockenheimring",
          "name": "German Grand Prix",
          "time": 106369.78658536586,
          "year": 2001
         },
         {
          "circuit_name": "Hockenheimring",
          "name": "German Grand Prix",
          "time": 80844.47774480713,
          "year": 2002
         },
         {
          "circuit_name": "Hockenheimring",
          "name": "German Grand Prix",
          "time": 82703.95108077361,
          "year": 2003
         },
         {
          "circuit_name": "Hockenheimring",
          "name": "German Grand Prix",
          "time": 77843.47088186357,
          "year": 2004
         },
         {
          "circuit_name": "Hockenheimring",
          "name": "German Grand Prix",
          "time": 79924.06901960785,
          "year": 2005
         },
         {
          "circuit_name": "Hockenheimring",
          "name": "German Grand Prix",
          "time": 79954.0945821855,
          "year": 2006
         },
         {
          "circuit_name": "Hockenheimring",
          "name": "German Grand Prix",
          "time": 82439.6207442597,
          "year": 2008
         },
         {
          "circuit_name": "Hockenheimring",
          "name": "German Grand Prix",
          "time": 80806.17366136034,
          "year": 2010
         },
         {
          "circuit_name": "Hockenheimring",
          "name": "German Grand Prix",
          "time": 83038.70379746835,
          "year": 2012
         },
         {
          "circuit_name": "Hockenheimring",
          "name": "German Grand Prix",
          "time": 85535.87099236641,
          "year": 2014
         },
         {
          "circuit_name": "Hockenheimring",
          "name": "German Grand Prix",
          "time": 82800.56073446327,
          "year": 2016
         },
         {
          "circuit_name": "Hockenheimring",
          "name": "German Grand Prix",
          "time": 83211.08,
          "year": 2018
         },
         {
          "circuit_name": "Nürburgring",
          "name": "German Grand Prix",
          "time": 97746.69053934573,
          "year": 2009
         },
         {
          "circuit_name": "Nürburgring",
          "name": "German Grand Prix",
          "time": 100239.72191673213,
          "year": 2011
         },
         {
          "circuit_name": "Nürburgring",
          "name": "German Grand Prix",
          "time": 102192.11505922166,
          "year": 2013
         },
         {
          "circuit_name": "Hungaroring",
          "name": "Hungarian Grand Prix",
          "time": 84920.7914979757,
          "year": 1996
         },
         {
          "circuit_name": "Hungaroring",
          "name": "Hungarian Grand Prix",
          "time": 83373.5034695451,
          "year": 1997
         },
         {
          "circuit_name": "Hungaroring",
          "name": "Hungarian Grand Prix",
          "time": 84199.28270676691,
          "year": 1998
         },
         {
          "circuit_name": "Hungaroring",
          "name": "Hungarian Grand Prix",
          "time": 84415.07270233196,
          "year": 1999
         },
         {
          "circuit_name": "Hungaroring",
          "name": "Hungarian Grand Prix",
          "time": 84592.69966101693,
          "year": 2000
         },
         {
          "circuit_name": "Hungaroring",
          "name": "Hungarian Grand Prix",
          "time": 82345.48468606433,
          "year": 2001
         },
         {
          "circuit_name": "Hungaroring",
          "name": "Hungarian Grand Prix",
          "time": 80742.0674074074,
          "year": 2002
         },
         {
          "circuit_name": "Hungaroring",
          "name": "Hungarian Grand Prix",
          "time": 86829.13734290843,
          "year": 2003
         },
         {
          "circuit_name": "Hungaroring",
          "name": "Hungarian Grand Prix",
          "time": 84107.86751054853,
          "year": 2004
         },
         {
          "circuit_name": "Hungaroring",
          "name": "Hungarian Grand Prix",
          "time": 86576.21522309711,
          "year": 2005
         },
         {
          "circuit_name": "Hungaroring",
          "name": "Hungarian Grand Prix",
          "time": 99241.84244080144,
          "year": 2006
         },
         {
          "circuit_name": "Hungaroring",
          "name": "Hungarian Grand Prix",
          "time": 83614.28884026258,
          "year": 2007
         },
         {
          "circuit_name": "Hungaroring",
          "name": "Hungarian Grand Prix",
          "time": 84883.71021021019,
          "year": 2008
         },
         {
          "circuit_name": "Hungaroring",
          "name": "Hungarian Grand Prix",
          "time": 85345.85456110153,
          "year": 2009
         },
         {
          "circuit_name": "Hungaroring",
          "name": "Hungarian Grand Prix",
          "time": 89089.87599709934,
          "year": 2010
         },
         {
          "circuit_name": "Hungaroring",
          "name": "Hungarian Grand Prix",
          "time": 94755.08797850908,
          "year": 2011
         },
         {
          "circuit_name": "Hungaroring",
          "name": "Hungarian Grand Prix",
          "time": 89435.71992597161,
          "year": 2012
         },
         {
          "circuit_name": "Hungaroring",
          "name": "Hungarian Grand Prix",
          "time": 89550.49067431851,
          "year": 2013
         },
         {
          "circuit_name": "Hungaroring",
          "name": "Hungarian Grand Prix",
          "time": 98855.572593801,
          "year": 2014
         },
         {
          "circuit_name": "Hungaroring",
          "name": "Hungarian Grand Prix",
          "time": 93509.9326702372,
          "year": 2015
         },
         {
          "circuit_name": "Hungaroring",
          "name": "Hungarian Grand Prix",
          "time": 87848.5612177366,
          "year": 2016
         },
         {
          "circuit_name": "Hungaroring",
          "name": "Hungarian Grand Prix",
          "time": 87078.5250996016,
          "year": 2017
         },
         {
          "circuit_name": "Hungaroring",
          "name": "Hungarian Grand Prix",
          "time": 85054.30162601625,
          "year": 2018
         },
         {
          "circuit_name": "Autodromo Nazionale di Monza",
          "name": "Italian Grand Prix",
          "time": 90259.41626794258,
          "year": 1996
         },
         {
          "circuit_name": "Autodromo Nazionale di Monza",
          "name": "Italian Grand Prix",
          "time": 88592.76371308017,
          "year": 1997
         },
         {
          "circuit_name": "Autodromo Nazionale di Monza",
          "name": "Italian Grand Prix",
          "time": 90119.74200913242,
          "year": 1998
         },
         {
          "circuit_name": "Autodromo Nazionale di Monza",
          "name": "Italian Grand Prix",
          "time": 88680.92108508016,
          "year": 1999
         },
         {
          "circuit_name": "Autodromo Nazionale di Monza",
          "name": "Italian Grand Prix",
          "time": 103042.18385650225,
          "year": 2000
         },
         {
          "circuit_name": "Autodromo Nazionale di Monza",
          "name": "Italian Grand Prix",
          "time": 89274.42396313364,
          "year": 2001
         },
         {
          "circuit_name": "Autodromo Nazionale di Monza",
          "name": "Italian Grand Prix",
          "time": 88326.60542540075,
          "year": 2002
         },
         {
          "circuit_name": "Autodromo Nazionale di Monza",
          "name": "Italian Grand Prix",
          "time": 86474.21156211563,
          "year": 2003
         },
         {
          "circuit_name": "Autodromo Nazionale di Monza",
          "name": "Italian Grand Prix",
          "time": 86690.60398230089,
          "year": 2004
         },
         {
          "circuit_name": "Autodromo Nazionale di Monza",
          "name": "Italian Grand Prix",
          "time": 86136.43732057416,
          "year": 2005
         },
         {
          "circuit_name": "Autodromo Nazionale di Monza",
          "name": "Italian Grand Prix",
          "time": 86428.36257309941,
          "year": 2006
         },
         {
          "circuit_name": "Autodromo Nazionale di Monza",
          "name": "Italian Grand Prix",
          "time": 90796.26836158194,
          "year": 2007
         },
         {
          "circuit_name": "Autodromo Nazionale di Monza",
          "name": "Italian Grand Prix",
          "time": 99650.07403751234,
          "year": 2008
         },
         {
          "circuit_name": "Autodromo Nazionale di Monza",
          "name": "Italian Grand Prix",
          "time": 88049.08351893096,
          "year": 2009
         },
         {
          "circuit_name": "Autodromo Nazionale di Monza",
          "name": "Italian Grand Prix",
          "time": 88298.86968325793,
          "year": 2010
         },
         {
          "circuit_name": "Autodromo Nazionale di Monza",
          "name": "Italian Grand Prix",
          "time": 95309.73903262091,
          "year": 2011
         },
         {
          "circuit_name": "Autodromo Nazionale di Monza",
          "name": "Italian Grand Prix",
          "time": 91499.33137089992,
          "year": 2012
         },
         {
          "circuit_name": "Autodromo Nazionale di Monza",
          "name": "Italian Grand Prix",
          "time": 89949.15528531338,
          "year": 2013
         },
         {
          "circuit_name": "Autodromo Nazionale di Monza",
          "name": "Italian Grand Prix",
          "time": 91257.94926199262,
          "year": 2014
         },
         {
          "circuit_name": "Autodromo Nazionale di Monza",
          "name": "Italian Grand Prix",
          "time": 90377.70695187166,
          "year": 2015
         },
         {
          "circuit_name": "Autodromo Nazionale di Monza",
          "name": "Italian Grand Prix",
          "time": 90429.14215686274,
          "year": 2016
         },
         {
          "circuit_name": "Autodromo Nazionale di Monza",
          "name": "Italian Grand Prix",
          "time": 87423.60739260739,
          "year": 2017
         },
         {
          "circuit_name": "Autodromo Nazionale di Monza",
          "name": "Italian Grand Prix",
          "time": 88633.80972972975,
          "year": 2018
         },
         {
          "circuit_name": "Fuji Speedway",
          "name": "Japanese Grand Prix",
          "time": 111066.22188217293,
          "year": 2007
         },
         {
          "circuit_name": "Fuji Speedway",
          "name": "Japanese Grand Prix",
          "time": 81808.43399810066,
          "year": 2008
         },
         {
          "circuit_name": "Suzuka Circuit",
          "name": "Japanese Grand Prix",
          "time": 108713.01593137256,
          "year": 1996
         },
         {
          "circuit_name": "Suzuka Circuit",
          "name": "Japanese Grand Prix",
          "time": 103353.60220994477,
          "year": 1997
         },
         {
          "circuit_name": "Suzuka Circuit",
          "name": "Japanese Grand Prix",
          "time": 105138.19801980196,
          "year": 1998
         },
         {
          "circuit_name": "Suzuka Circuit",
          "name": "Japanese Grand Prix",
          "time": 106191.98056155507,
          "year": 1999
         },
         {
          "circuit_name": "Suzuka Circuit",
          "name": "Japanese Grand Prix",
          "time": 104520.16302186881,
          "year": 2000
         },
         {
          "circuit_name": "Suzuka Circuit",
          "name": "Japanese Grand Prix",
          "time": 101900.9011976048,
          "year": 2001
         },
         {
          "circuit_name": "Suzuka Circuit",
          "name": "Japanese Grand Prix",
          "time": 100953.98646820027,
          "year": 2002
         },
         {
          "circuit_name": "Suzuka Circuit",
          "name": "Japanese Grand Prix",
          "time": 98206.5303197354,
          "year": 2003
         },
         {
          "circuit_name": "Suzuka Circuit",
          "name": "Japanese Grand Prix",
          "time": 97773.03798767967,
          "year": 2004
         },
         {
          "circuit_name": "Suzuka Circuit",
          "name": "Japanese Grand Prix",
          "time": 103227.44554455446,
          "year": 2005
         },
         {
          "circuit_name": "Suzuka Circuit",
          "name": "Japanese Grand Prix",
          "time": 97062.21722846443,
          "year": 2006
         },
         {
          "circuit_name": "Suzuka Circuit",
          "name": "Japanese Grand Prix",
          "time": 100347.66911764706,
          "year": 2009
         },
         {
          "circuit_name": "Suzuka Circuit",
          "name": "Japanese Grand Prix",
          "time": 104808.70215053763,
          "year": 2010
         },
         {
          "circuit_name": "Suzuka Circuit",
          "name": "Japanese Grand Prix",
          "time": 104489.39803439805,
          "year": 2011
         },
         {
          "circuit_name": "Suzuka Circuit",
          "name": "Japanese Grand Prix",
          "time": 102524.97334558824,
          "year": 2012
         },
         {
          "circuit_name": "Suzuka Circuit",
          "name": "Japanese Grand Prix",
          "time": 100004.5805168986,
          "year": 2013
         },
         {
          "circuit_name": "Suzuka Circuit",
          "name": "Japanese Grand Prix",
          "time": 155868.39273927393,
          "year": 2014
         },
         {
          "circuit_name": "Suzuka Circuit",
          "name": "Japanese Grand Prix",
          "time": 101991.42802303264,
          "year": 2015
         },
         {
          "circuit_name": "Suzuka Circuit",
          "name": "Japanese Grand Prix",
          "time": 99930.42943722944,
          "year": 2016
         },
         {
          "circuit_name": "Suzuka Circuit",
          "name": "Japanese Grand Prix",
          "time": 100707.12782805429,
          "year": 2017
         },
         {
          "circuit_name": "Autódromo Hermanos Rodríguez",
          "name": "Mexican Grand Prix",
          "time": 87335.40919904837,
          "year": 2015
         },
         {
          "circuit_name": "Autódromo Hermanos Rodríguez",
          "name": "Mexican Grand Prix",
          "time": 86322.61189993237,
          "year": 2016
         },
         {
          "circuit_name": "Autódromo Hermanos Rodríguez",
          "name": "Mexican Grand Prix",
          "time": 83242.02204081633,
          "year": 2017
         },
         {
          "circuit_name": "Circuit de Monaco",
          "name": "Monaco Grand Prix",
          "time": 99796.08951406651,
          "year": 1996
         },
         {
          "circuit_name": "Circuit de Monaco",
          "name": "Monaco Grand Prix",
          "time": 119601.46692607006,
          "year": 1997
         },
         {
          "circuit_name": "Circuit de Monaco",
          "name": "Monaco Grand Prix",
          "time": 87478.9940526763,
          "year": 1998
         },
         {
          "circuit_name": "Circuit de Monaco",
          "name": "Monaco Grand Prix",
          "time": 86060.88057040997,
          "year": 1999
         },
         {
          "circuit_name": "Circuit de Monaco",
          "name": "Monaco Grand Prix",
          "time": 85511.05443371378,
          "year": 2000
         },
         {
          "circuit_name": "Circuit de Monaco",
          "name": "Monaco Grand Prix",
          "time": 85217.3831858407,
          "year": 2001
         },
         {
          "circuit_name": "Circuit de Monaco",
          "name": "Monaco Grand Prix",
          "time": 83429.29637841832,
          "year": 2002
         },
         {
          "circuit_name": "Circuit de Monaco",
          "name": "Monaco Grand Prix",
          "time": 80484.47304347825,
          "year": 2003
         },
         {
          "circuit_name": "Circuit de Monaco",
          "name": "Monaco Grand Prix",
          "time": 85515.9226519337,
          "year": 2004
         },
         {
          "circuit_name": "Circuit de Monaco",
          "name": "Monaco Grand Prix",
          "time": 82586.50537634407,
          "year": 2005
         },
         {
          "circuit_name": "Circuit de Monaco",
          "name": "Monaco Grand Prix",
          "time": 81079.02310654684,
          "year": 2006
         },
         {
          "circuit_name": "Circuit de Monaco",
          "name": "Monaco Grand Prix",
          "time": 79119.62926509186,
          "year": 2007
         },
         {
          "circuit_name": "Circuit de Monaco",
          "name": "Monaco Grand Prix",
          "time": 96772.89366692727,
          "year": 2008
         },
         {
          "circuit_name": "Circuit de Monaco",
          "name": "Monaco Grand Prix",
          "time": 78432.49882537196,
          "year": 2009
         },
         {
          "circuit_name": "Circuit de Monaco",
          "name": "Monaco Grand Prix",
          "time": 85808.72845763939,
          "year": 2010
         },
         {
          "circuit_name": "Circuit de Monaco",
          "name": "Monaco Grand Prix",
          "time": 99203.54301745637,
          "year": 2011
         },
         {
          "circuit_name": "Circuit de Monaco",
          "name": "Monaco Grand Prix",
          "time": 82576.82849239281,
          "year": 2012
         },
         {
          "circuit_name": "Circuit de Monaco",
          "name": "Monaco Grand Prix",
          "time": 106209.10978043912,
          "year": 2013
         },
         {
          "circuit_name": "Circuit de Monaco",
          "name": "Monaco Grand Prix",
          "time": 86113.0328125,
          "year": 2014
         },
         {
          "circuit_name": "Circuit de Monaco",
          "name": "Monaco Grand Prix",
          "time": 84532.03079076277,
          "year": 2015
         },
         {
          "circuit_name": "Circuit de Monaco",
          "name": "Monaco Grand Prix",
          "time": 95728.84008843037,
          "year": 2016
         },
         {
          "circuit_name": "Circuit de Monaco",
          "name": "Monaco Grand Prix",
          "time": 80751.66831683168,
          "year": 2017
         },
         {
          "circuit_name": "Circuit de Monaco",
          "name": "Monaco Grand Prix",
          "time": 79857.74950429611,
          "year": 2018
         },
         {
          "circuit_name": "Sochi Autodrom",
          "name": "Russian Grand Prix",
          "time": 105796.80097087377,
          "year": 2014
         },
         {
          "circuit_name": "Sochi Autodrom",
          "name": "Russian Grand Prix",
          "time": 111658.81014150943,
          "year": 2015
         },
         {
          "circuit_name": "Sochi Autodrom",
          "name": "Russian Grand Prix",
          "time": 107195.69886947583,
          "year": 2016
         },
         {
          "circuit_name": "Sochi Autodrom",
          "name": "Russian Grand Prix",
          "time": 103805.56400966183,
          "year": 2017
         },
         {
          "circuit_name": "Marina Bay Street Circuit",
          "name": "Singapore Grand Prix",
          "time": 115775.10131332086,
          "year": 2008
         },
         {
          "circuit_name": "Marina Bay Street Circuit",
          "name": "Singapore Grand Prix",
          "time": 115520.51734104047,
          "year": 2009
         },
         {
          "circuit_name": "Marina Bay Street Circuit",
          "name": "Singapore Grand Prix",
          "time": 118746.38921161824,
          "year": 2010
         },
         {
          "circuit_name": "Marina Bay Street Circuit",
          "name": "Singapore Grand Prix",
          "time": 120600.50561797751,
          "year": 2011
         },
         {
          "circuit_name": "Marina Bay Street Circuit",
          "name": "Singapore Grand Prix",
          "time": 123570.73359375,
          "year": 2012
         },
         {
          "circuit_name": "Marina Bay Street Circuit",
          "name": "Singapore Grand Prix",
          "time": 118799.2216088328,
          "year": 2013
         },
         {
          "circuit_name": "Marina Bay Street Circuit",
          "name": "Singapore Grand Prix",
          "time": 121152.02892199824,
          "year": 2014
         },
         {
          "circuit_name": "Marina Bay Street Circuit",
          "name": "Singapore Grand Prix",
          "time": 121017.76029962547,
          "year": 2015
         },
         {
          "circuit_name": "Marina Bay Street Circuit",
          "name": "Singapore Grand Prix",
          "time": 116025.70951156813,
          "year": 2016
         },
         {
          "circuit_name": "Marina Bay Street Circuit",
          "name": "Singapore Grand Prix",
          "time": 130159.12071005914,
          "year": 2017
         },
         {
          "circuit_name": "Marina Bay Street Circuit",
          "name": "Singapore Grand Prix",
          "time": 111642.22008733623,
          "year": 2018
         },
         {
          "circuit_name": "Circuit de Barcelona-Catalunya",
          "name": "Spanish Grand Prix",
          "time": 113189.83724832215,
          "year": 1996
         },
         {
          "circuit_name": "Circuit de Barcelona-Catalunya",
          "name": "Spanish Grand Prix",
          "time": 86331.24285714286,
          "year": 1997
         },
         {
          "circuit_name": "Circuit de Barcelona-Catalunya",
          "name": "Spanish Grand Prix",
          "time": 88617.77480586713,
          "year": 1998
         },
         {
          "circuit_name": "Circuit de Barcelona-Catalunya",
          "name": "Spanish Grand Prix",
          "time": 88875.99281867144,
          "year": 1999
         },
         {
          "circuit_name": "Circuit de Barcelona-Catalunya",
          "name": "Spanish Grand Prix",
          "time": 88307.3462555066,
          "year": 2000
         },
         {
          "circuit_name": "Circuit de Barcelona-Catalunya",
          "name": "Spanish Grand Prix",
          "time": 85841.19655172412,
          "year": 2001
         },
         {
          "circuit_name": "Circuit de Barcelona-Catalunya",
          "name": "Spanish Grand Prix",
          "time": 85200.83023001095,
          "year": 2002
         },
         {
          "circuit_name": "Circuit de Barcelona-Catalunya",
          "name": "Spanish Grand Prix",
          "time": 89375.64994547438,
          "year": 2003
         },
         {
          "circuit_name": "Circuit de Barcelona-Catalunya",
          "name": "Spanish Grand Prix",
          "time": 81294.19349005425,
          "year": 2004
         },
         {
          "circuit_name": "Circuit de Barcelona-Catalunya",
          "name": "Spanish Grand Prix",
          "time": 81753.06625891947,
          "year": 2005
         },
         {
          "circuit_name": "Circuit de Barcelona-Catalunya",
          "name": "Spanish Grand Prix",
          "time": 80710.33651551312,
          "year": 2006
         },
         {
          "circuit_name": "Circuit de Barcelona-Catalunya",
          "name": "Spanish Grand Prix",
          "time": 86263.06896551725,
          "year": 2007
         },
         {
          "circuit_name": "Circuit de Barcelona-Catalunya",
          "name": "Spanish Grand Prix",
          "time": 91046.76247504991,
          "year": 2008
         },
         {
          "circuit_name": "Circuit de Barcelona-Catalunya",
          "name": "Spanish Grand Prix",
          "time": 89878.92675159236,
          "year": 2009
         },
         {
          "circuit_name": "Circuit de Barcelona-Catalunya",
          "name": "Spanish Grand Prix",
          "time": 89306.26666666666,
          "year": 2010
         },
         {
          "circuit_name": "Circuit de Barcelona-Catalunya",
          "name": "Spanish Grand Prix",
          "time": 92749.42052313883,
          "year": 2011
         },
         {
          "circuit_name": "Circuit de Barcelona-Catalunya",
          "name": "Spanish Grand Prix",
          "time": 91803.58646063283,
          "year": 2012
         },
         {
          "circuit_name": "Circuit de Barcelona-Catalunya",
          "name": "Spanish Grand Prix",
          "time": 91925.91761148904,
          "year": 2013
         },
         {
          "circuit_name": "Circuit de Barcelona-Catalunya",
          "name": "Spanish Grand Prix",
          "time": 93876.15503306393,
          "year": 2014
         },
         {
          "circuit_name": "Circuit de Barcelona-Catalunya",
          "name": "Spanish Grand Prix",
          "time": 94366.14251207726,
          "year": 2015
         },
         {
          "circuit_name": "Circuit de Barcelona-Catalunya",
          "name": "Spanish Grand Prix",
          "time": 93990.02998379254,
          "year": 2016
         },
         {
          "circuit_name": "Circuit de Barcelona-Catalunya",
          "name": "Spanish Grand Prix",
          "time": 89566.00631768953,
          "year": 2017
         },
         {
          "circuit_name": "Circuit de Barcelona-Catalunya",
          "name": "Spanish Grand Prix",
          "time": 89232.64173228346,
          "year": 2018
         },
         {
          "circuit_name": "Circuit of the Americas",
          "name": "United States Grand Prix",
          "time": 104841.8456,
          "year": 2012
         },
         {
          "circuit_name": "Circuit of the Americas",
          "name": "United States Grand Prix",
          "time": 107876.42991452992,
          "year": 2013
         },
         {
          "circuit_name": "Circuit of the Americas",
          "name": "United States Grand Prix",
          "time": 108864.56807511736,
          "year": 2014
         },
         {
          "circuit_name": "Circuit of the Americas",
          "name": "United States Grand Prix",
          "time": 120262.10513739545,
          "year": 2015
         },
         {
          "circuit_name": "Circuit of the Americas",
          "name": "United States Grand Prix",
          "time": 107481.71150278293,
          "year": 2016
         },
         {
          "circuit_name": "Circuit of the Americas",
          "name": "United States Grand Prix",
          "time": 102314.03322615221,
          "year": 2017
         },
         {
          "circuit_name": "Indianapolis Motor Speedway",
          "name": "United States Grand Prix",
          "time": 81014.95176848874,
          "year": 2000
         },
         {
          "circuit_name": "Indianapolis Motor Speedway",
          "name": "United States Grand Prix",
          "time": 77606.37688821754,
          "year": 2001
         },
         {
          "circuit_name": "Indianapolis Motor Speedway",
          "name": "United States Grand Prix",
          "time": 76293.01977186312,
          "year": 2002
         },
         {
          "circuit_name": "Indianapolis Motor Speedway",
          "name": "United States Grand Prix",
          "time": 79481.83923705723,
          "year": 2003
         },
         {
          "circuit_name": "Indianapolis Motor Speedway",
          "name": "United States Grand Prix",
          "time": 86033.70370370371,
          "year": 2004
         },
         {
          "circuit_name": "Indianapolis Motor Speedway",
          "name": "United States Grand Prix",
          "time": 75122.35879629629,
          "year": 2005
         },
         {
          "circuit_name": "Indianapolis Motor Speedway",
          "name": "United States Grand Prix",
          "time": 79691.13350125945,
          "year": 2006
         },
         {
          "circuit_name": "Indianapolis Motor Speedway",
          "name": "United States Grand Prix",
          "time": 76220.01708074534,
          "year": 2007
         }
        ]
       },
       "encoding": {
        "color": {
         "field": "name",
         "type": "nominal"
        },
        "tooltip": {
         "field": "name",
         "type": "nominal"
        },
        "x": {
         "field": "year",
         "type": "quantitative"
        },
        "y": {
         "field": "time",
         "type": "quantitative"
        }
       },
       "mark": "point",
       "selection": {
        "selector002": {
         "bind": "scales",
         "encodings": [
          "x",
          "y"
         ],
         "mark": {
          "fill": "#333",
          "fillOpacity": 0.125,
          "stroke": "white"
         },
         "on": "[mousedown, window:mouseup] > window:mousemove!",
         "resolve": "global",
         "translate": "[mousedown, window:mouseup] > window:mousemove!",
         "type": "interval",
         "zoom": "wheel!"
        }
       }
      },
      "image/png": "[encoded data removed]",
      "text/plain": [
       "<VegaLite 2 object>\n",
       "\n",
       "If you see this message, it means the renderer has not been properly enabled\n",
       "for the frontend that you are using. For more information, see\n",
       "https://altair-viz.github.io/user_guide/troubleshooting.html\n"
      ]
     },
     "execution_count": 189,
     "metadata": {},
     "output_type": "execute_result"
    }
   ],
   "source": [
    "alt.Chart(tracks_2018_mean_laps).mark_point().encode(\n",
    "    x='year',\n",
    "    y='time',\n",
    "    color='name',\n",
    "    tooltip='name'\n",
    ").interactive()"
   ]
  }
 ],
 "metadata": {
  "kernelspec": {
   "display_name": "Python 3",
   "language": "python",
   "name": "python3"
  },
  "language_info": {
   "codemirror_mode": {
    "name": "ipython",
    "version": 3
   },
   "file_extension": ".py",
   "mimetype": "text/x-python",
   "name": "python",
   "nbconvert_exporter": "python",
   "pygments_lexer": "ipython3",
   "version": "3.6.6"
  }
 },
 "nbformat": 4,
 "nbformat_minor": 2
}
