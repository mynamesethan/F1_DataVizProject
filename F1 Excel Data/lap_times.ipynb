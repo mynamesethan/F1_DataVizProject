{
 "cells": [
  {
   "cell_type": "code",
   "execution_count": 39,
   "metadata": {
    "colab": {
     "base_uri": "https://localhost:8080/",
     "height": 944
    },
    "colab_type": "code",
    "id": "rAKJJatle5DV",
    "outputId": "af714944-0fbe-4114-b4be-4f96cfacba6f"
   },
   "outputs": [],
   "source": [
    "import pandas as pd\n",
    "import matplotlib.pyplot as plt\n",
    "%matplotlib inline\n",
    "#constructor_results = pd.read_csv(\"constructor_results.csv\")\n",
    "#constructor_standings = pd.read_csv(\"constructor_standings.csv\")\n",
    "#constructors = pd.read_csv('constructors.csv')\n",
    "#driver_standings = pd.read_csv(\"driver_standings.csv\")\n",
    "#pit_stops = pd.read_csv(\"pit_stops.csv\")\n",
    "#qualifying = pd.read_csv(\"qualifying.csv\")\n",
    "#results = pd.read_csv(\"results.csv\")\n",
    "#seasons = pd.read_csv(\"seasons.csv\")\n",
    "#status = pd.read_csv(\"status.csv\")\n",
    "\n",
    "drivers = pd.read_csv('driver.csv')\n",
    "circuits = pd.read_csv(\"circuits.csv\")\n",
    "races = pd.read_csv(\"races.csv\")\n",
    "lap_times = pd.read_csv(\"lap_times.csv\")"
   ]
  },
  {
   "cell_type": "code",
   "execution_count": 40,
   "metadata": {
    "colab": {},
    "colab_type": "code",
    "id": "G1CdrPete5Dm"
   },
   "outputs": [],
   "source": [
    "# drivers subset for join \n",
    "races_subset = races[[\"raceId\", \"circuitId\",\"name\", \"date\"]]"
   ]
  },
  {
   "cell_type": "code",
   "execution_count": 41,
   "metadata": {
    "colab": {},
    "colab_type": "code",
    "id": "qOrkAjrQe5Dz"
   },
   "outputs": [],
   "source": [
    "# drivers subset\n",
    "drivers[\"fullname\"] = drivers[\"forename\"].map(str) + \" \" + drivers[\"surname\"]\n",
    "drivers_subset = drivers[[\"driverId\", \"fullname\"]]"
   ]
  },
  {
   "cell_type": "code",
   "execution_count": 42,
   "metadata": {
    "colab": {},
    "colab_type": "code",
    "id": "lDv_Bp5Be5EA"
   },
   "outputs": [],
   "source": [
    "# rename some columns\n",
    "circuits = circuits.rename(columns={'circuitID': 'circuitId', \"name\":\"circuit_name\"})"
   ]
  },
  {
   "cell_type": "code",
   "execution_count": 43,
   "metadata": {
    "colab": {},
    "colab_type": "code",
    "id": "122QQSF1e5EM"
   },
   "outputs": [],
   "source": [
    "# subset to maintain intitial data\n",
    "lap_times_subset = lap_times\n",
    "\n",
    "# join driver to driver id\n",
    "lap_times_subset = pd.merge(left = lap_times_subset, right = drivers_subset, on = \"driverId\")\n",
    "\n",
    "# join raceId\n",
    "lap_times_subset = pd.merge(left = lap_times_subset, right = races_subset, on = \"raceId\")\n",
    "\n",
    "# join by circuit\n",
    "lap_times_subset = pd.merge(left = circuits[[\"circuitId\", \"circuit_name\"]], right = lap_times_subset, on = \"circuitId\")"
   ]
  },
  {
   "cell_type": "code",
   "execution_count": 44,
   "metadata": {
    "colab": {},
    "colab_type": "code",
    "id": "6PwxN_DRe5EZ"
   },
   "outputs": [],
   "source": [
    "# convert to datetime to make date manipulation easier - takes a while\n",
    "lap_times_subset['date'] = pd.to_datetime(lap_times_subset['date'])\n",
    "\n",
    "# make year column\n",
    "lap_times_subset[\"year\"] = lap_times_subset.date.dt.year"
   ]
  },
  {
   "cell_type": "code",
   "execution_count": 45,
   "metadata": {
    "colab": {},
    "colab_type": "code",
    "id": "ZlKClm2te5Eh"
   },
   "outputs": [],
   "source": [
    "# make dataframe to be plotted\n",
    "mean_laptimes_by_track = lap_times_subset[[\"year\", \"name\", \"circuit_name\", \"milliseconds\"]]\n",
    "# change milliseconds name to time\n",
    "\n",
    "mean_laptimes_by_track = mean_laptimes_by_track.rename(columns = {\"milliseconds\":\"time\"})"
   ]
  },
  {
   "cell_type": "code",
   "execution_count": 46,
   "metadata": {
    "colab": {},
    "colab_type": "code",
    "id": "N6TkvlBGe5Eq"
   },
   "outputs": [],
   "source": [
    "# group by circuit and year and find average time\n",
    "mean_laptimes_by_track = mean_laptimes_by_track.groupby([\"name\",\"circuit_name\", \"year\"]).mean()\n",
    "\n",
    "# convert ms to time\n",
    "#mean_laptimes_by_track.time = pd.to_timedelta(mean_laptimes_by_track.time, unit='ms')"
   ]
  },
  {
   "cell_type": "code",
   "execution_count": 47,
   "metadata": {
    "colab": {},
    "colab_type": "code",
    "id": "xsehe-2Le5Ew"
   },
   "outputs": [],
   "source": [
    "races_2018 = ['Australian Grand Prix', 'Bahrain Grand Prix', 'Spanish Grand Prix','Monaco Grand Prix',\n",
    "              'Canadian Grand Prix', 'French Grand Prix', 'British Grand Prix', 'German Grand Prix',\n",
    "              'Hungarian Grand Prix','Belgian Grand Prix', 'Italian Grand Prix','Singapore Grand Prix',\n",
    "              'Japanese Grand Prix','Chinese Grand Prix','Brazilian Grand Prix','United States Grand Prix',\n",
    "              'Austrian Grand Prix','Abu Dhabi Grand Prix','Mexican Grand Prix', 'Russian Grand Prix', 'Azerbaijan Grand Prix']"
   ]
  },
  {
   "cell_type": "code",
   "execution_count": 48,
   "metadata": {
    "colab": {},
    "colab_type": "code",
    "id": "Ij94Caole5E0"
   },
   "outputs": [],
   "source": [
    "# sace as csv because python is formatting it weird\n",
    "mean_laptimes_by_track.to_csv('mean_lap_times.csv')"
   ]
  },
  {
   "cell_type": "code",
   "execution_count": 49,
   "metadata": {
    "colab": {
     "base_uri": "https://localhost:8080/",
     "height": 891
    },
    "colab_type": "code",
    "id": "wWx7J2hze5E3",
    "outputId": "0d28e829-033d-4ea9-d2c3-d759d0b33457"
   },
   "outputs": [],
   "source": [
    "mean_laps = pd.read_csv(\"mean_lap_times.csv\")\n",
    "tracks_2018_mean_laps = mean_laps[mean_laps.name.isin(races_2018)]"
   ]
  },
  {
   "cell_type": "code",
   "execution_count": 50,
   "metadata": {
    "colab": {
     "base_uri": "https://localhost:8080/",
     "height": 202
    },
    "colab_type": "code",
    "id": "0JnvFIG4e5E6",
    "outputId": "759af370-a21d-4aad-bcdf-1f2b8d3e4c6e"
   },
   "outputs": [
    {
     "name": "stderr",
     "output_type": "stream",
     "text": [
      "C:\\Users\\jackt\\Anaconda3\\lib\\site-packages\\pandas\\core\\generic.py:4401: SettingWithCopyWarning: \n",
      "A value is trying to be set on a copy of a slice from a DataFrame.\n",
      "Try using .loc[row_indexer,col_indexer] = value instead\n",
      "\n",
      "See the caveats in the documentation: http://pandas.pydata.org/pandas-docs/stable/indexing.html#indexing-view-versus-copy\n",
      "  self[name] = value\n",
      "C:\\Users\\jackt\\Anaconda3\\lib\\site-packages\\ipykernel_launcher.py:3: SettingWithCopyWarning: \n",
      "A value is trying to be set on a copy of a slice from a DataFrame.\n",
      "Try using .loc[row_indexer,col_indexer] = value instead\n",
      "\n",
      "See the caveats in the documentation: http://pandas.pydata.org/pandas-docs/stable/indexing.html#indexing-view-versus-copy\n",
      "  This is separate from the ipykernel package so we can avoid doing imports until\n",
      "C:\\Users\\jackt\\Anaconda3\\lib\\site-packages\\ipykernel_launcher.py:4: SettingWithCopyWarning: \n",
      "A value is trying to be set on a copy of a slice from a DataFrame.\n",
      "Try using .loc[row_indexer,col_indexer] = value instead\n",
      "\n",
      "See the caveats in the documentation: http://pandas.pydata.org/pandas-docs/stable/indexing.html#indexing-view-versus-copy\n",
      "  after removing the cwd from sys.path.\n"
     ]
    }
   ],
   "source": [
    "# Convert to datetime, ignore warnings\n",
    "tracks_2018_mean_laps.time = pd.to_timedelta(tracks_2018_mean_laps.time, unit='ms')\n",
    "tracks_2018_mean_laps[\"time\"] = pd.to_datetime(tracks_2018_mean_laps[\"time\"])\n",
    "tracks_2018_mean_laps[\"time\"] = tracks_2018_mean_laps.time.dt.strftime(\"%M:%S.%f\")"
   ]
  },
  {
   "cell_type": "code",
   "execution_count": 92,
   "metadata": {
    "colab": {
     "base_uri": "https://localhost:8080/",
     "height": 238
    },
    "colab_type": "code",
    "id": "Qct6QLtUe5E_",
    "outputId": "c787b64d-8281-4d4c-cc9c-66959bd239bd"
   },
   "outputs": [
    {
     "name": "stdout",
     "output_type": "stream",
     "text": [
      "                                                   0\n",
      "0                               Abu Dhabi Grand Prix\n",
      "1                     name        circuit_name  y...\n",
      "                                                   0\n",
      "0                              Australian Grand Prix\n",
      "1                       name                    c...\n",
      "                                                   0\n",
      "0                                Austrian Grand Prix\n",
      "1                     name   circuit_name  year  ...\n",
      "                                                   0\n",
      "0                              Azerbaijan Grand Prix\n",
      "1                       name       circuit_name  ...\n",
      "                                                   0\n",
      "0                                 Bahrain Grand Prix\n",
      "1                    name                   circu...\n",
      "                                                   0\n",
      "0                                 Belgian Grand Prix\n",
      "1                    name                  circui...\n",
      "                                                   0\n",
      "0                               Brazilian Grand Prix\n",
      "1                       name                circu...\n",
      "                                                   0\n",
      "0                                 British Grand Prix\n",
      "1                     name         circuit_name  ...\n",
      "                                                   0\n",
      "0                                Canadian Grand Prix\n",
      "1                      name               circuit...\n",
      "                                                   0\n",
      "0                                 Chinese Grand Prix\n",
      "1                     name                    cir...\n",
      "                                                   0\n",
      "0                                  French Grand Prix\n",
      "1                    name                   circu...\n",
      "                                                   0\n",
      "0                                  German Grand Prix\n",
      "1                    name    circuit_name  year  ...\n",
      "                                                   0\n",
      "0                               Hungarian Grand Prix\n",
      "1                       name circuit_name  year  ...\n",
      "                                                   0\n",
      "0                                 Italian Grand Prix\n",
      "1                     name                  circu...\n",
      "                                                   0\n",
      "0                                Japanese Grand Prix\n",
      "1                      name    circuit_name  year...\n",
      "                                                   0\n",
      "0                                 Mexican Grand Prix\n",
      "1                     name                  circu...\n",
      "                                                   0\n",
      "0                                  Monaco Grand Prix\n",
      "1                    name       circuit_name  yea...\n",
      "                                                   0\n",
      "0                                 Russian Grand Prix\n",
      "1                     name    circuit_name  year ...\n",
      "                                                   0\n",
      "0                               Singapore Grand Prix\n",
      "1                       name               circui...\n",
      "                                                   0\n",
      "0                                 Spanish Grand Prix\n",
      "1                     name                    cir...\n",
      "                                                   0\n",
      "0                           United States Grand Prix\n",
      "1                           name                 ...\n"
     ]
    }
   ],
   "source": [
    "# import altair as alt\n",
    "\n",
    "# Chart(tracks_2018_mean_laps).mark_point().encode(\n",
    "#     x = alt.X(str(\"year\"), scale=alt.Scale(domain=(1995, 2019), clamp = True)),\n",
    "#     y= alt.Y('time'),\n",
    "#     color='name',\n",
    "#     tooltip='name'\n",
    "# ).interactive().add_selection()\n",
    "\n",
    "x = tracks_2018_mean_laps[\"year\"]\n",
    "y = tracks_2018_mean_laps[\"time\"]\n",
    "\n",
    "names=tracks_2018_mean_laps['name'].unique().tolist()\n",
    "\n",
    "groups = tracks_2018_mean_laps.groupby([\"name\"])\n",
    "\n",
    "for group in groups:\n",
    "    print(pd.DataFrame(list(group)))\n",
    "\n",
    "# print(groups)\n",
    "\n",
    "# groups.plot()\n",
    "\n",
    "# fig = plt.figure()\n",
    "\n",
    "# plt.subplot(631)\n",
    "\n",
    "# for group in groups:\n",
    "#     print(group)\n",
    "\n",
    "\n",
    "# for name in names:\n",
    "#     if name == \n",
    "\n",
    "# num = 0\n",
    "# for column in tracks_2018_mean_laps[\"time\"]:\n",
    "#     num+=1\n",
    " \n",
    "#     # Find the right spot on the plot\n",
    "#     plt.subplot(3,3, num)\n",
    " \n",
    "#     # Plot the lineplot\n",
    "#     plt.plot(tracks_2018_mean_laps[\"time\"], tracks_2018_mean_laps[column], marker='', color=palette(num), linewidth=1.9, alpha=0.9, label=column)\n",
    " \n",
    "#     # Same limits for everybody!\n",
    "#     plt.xlim(0,10)\n",
    "#     plt.ylim(-2,22)\n",
    " \n",
    "#     # Not ticks everywhere\n",
    "#     if num in range(7) :\n",
    "#         plt.tick_params(labelbottom='off')\n",
    "#     if num not in [1,4,7] :\n",
    "#         plt.tick_params(labelleft='off')\n",
    " \n",
    "#     # Add title\n",
    "#     plt.title(column, loc='left', fontsize=12, fontweight=0, color=palette(num) )\n",
    " \n",
    "# # general title\n",
    "# plt.suptitle(\"How the 9 students improved\\nthese past few days?\", fontsize=13, fontweight=0, color='black', style='italic', y=1.02)\n",
    " \n",
    "# # Axis title\n",
    "# plt.text(0.5, 0.02, 'Time', ha='center', va='center')\n",
    "# plt.text(0.06, 0.5, 'Note', ha='center', va='center', rotation='vertical')\n",
    "\n",
    "# plt.scatter(x, y)\n",
    "# plt.show()\n",
    "\n",
    "#, timeUnit = \"year\""
   ]
  },
  {
   "cell_type": "code",
   "execution_count": null,
   "metadata": {},
   "outputs": [],
   "source": []
  },
  {
   "cell_type": "code",
   "execution_count": null,
   "metadata": {},
   "outputs": [],
   "source": []
  }
 ],
 "metadata": {
  "colab": {
   "name": "lap_times.ipynb",
   "provenance": [],
   "version": "0.3.2"
  },
  "kernelspec": {
   "display_name": "Python 3",
   "language": "python",
   "name": "python3"
  },
  "language_info": {
   "codemirror_mode": {
    "name": "ipython",
    "version": 3
   },
   "file_extension": ".py",
   "mimetype": "text/x-python",
   "name": "python",
   "nbconvert_exporter": "python",
   "pygments_lexer": "ipython3",
   "version": "3.6.5"
  }
 },
 "nbformat": 4,
 "nbformat_minor": 2
}
